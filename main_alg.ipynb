{
 "cells": [
  {
   "cell_type": "code",
   "execution_count": 72,
   "metadata": {},
   "outputs": [],
   "source": [
    "import pandas as pd\n",
    "import matplotlib.pyplot as plt\n",
    "import numpy as np"
   ]
  },
  {
   "cell_type": "code",
   "execution_count": 73,
   "metadata": {},
   "outputs": [],
   "source": [
    "#conda install keras\n",
    "from keras.datasets import cifar10"
   ]
  },
  {
   "cell_type": "code",
   "execution_count": 74,
   "metadata": {},
   "outputs": [],
   "source": [
    "(x_train, y_train), (x_test, y_test) = np.load('cifar10.csv.npy')"
   ]
  },
  {
   "cell_type": "code",
   "execution_count": 75,
   "metadata": {},
   "outputs": [],
   "source": [
    "#np.save('cifar10.csv', cifar)"
   ]
  },
  {
   "cell_type": "code",
   "execution_count": 76,
   "metadata": {},
   "outputs": [
    {
     "data": {
      "text/plain": [
       "<matplotlib.image.AxesImage at 0x7f3ccc40ca90>"
      ]
     },
     "execution_count": 76,
     "metadata": {},
     "output_type": "execute_result"
    },
    {
     "data": {
      "image/png": "[encoded data removed]",
      "text/plain": [
       "<Figure size 432x288 with 1 Axes>"
      ]
     },
     "metadata": {
      "needs_background": "light"
     },
     "output_type": "display_data"
    }
   ],
   "source": [
    "plt.imshow(x_train[1])"
   ]
  },
  {
   "cell_type": "code",
   "execution_count": 77,
   "metadata": {},
   "outputs": [],
   "source": [
    "np.random.seed(6)"
   ]
  },
  {
   "cell_type": "code",
   "execution_count": 78,
   "metadata": {},
   "outputs": [
    {
     "data": {
      "text/plain": [
       "(50000, 32, 32, 3)"
      ]
     },
     "execution_count": 78,
     "metadata": {},
     "output_type": "execute_result"
    }
   ],
   "source": [
    "x_train.shape"
   ]
  },
  {
   "cell_type": "code",
   "execution_count": 79,
   "metadata": {},
   "outputs": [
    {
     "data": {
      "text/plain": [
       "(32, 32, 3)"
      ]
     },
     "execution_count": 79,
     "metadata": {},
     "output_type": "execute_result"
    }
   ],
   "source": [
    "x_train[1].shape"
   ]
  },
  {
   "cell_type": "code",
   "execution_count": 80,
   "metadata": {},
   "outputs": [],
   "source": [
    "x_train.astype('float32')\n",
    "x_test.astype('float32')\n",
    "x_train = x_train/255.0\n",
    "x_test = x_test/255.0"
   ]
  },
  {
   "cell_type": "code",
   "execution_count": 81,
   "metadata": {},
   "outputs": [
    {
     "data": {
      "text/plain": [
       "<matplotlib.image.AxesImage at 0x7f3cc7a74b70>"
      ]
     },
     "execution_count": 81,
     "metadata": {},
     "output_type": "execute_result"
    },
    {
     "data": {
      "image/png": "[encoded data removed]",
      "text/plain": [
       "<Figure size 432x288 with 1 Axes>"
      ]
     },
     "metadata": {
      "needs_background": "light"
     },
     "output_type": "display_data"
    }
   ],
   "source": [
    "plt.imshow(x_train[1])"
   ]
  },
  {
   "cell_type": "code",
   "execution_count": 82,
   "metadata": {},
   "outputs": [
    {
     "name": "stdout",
     "output_type": "stream",
     "text": [
      "(50000, 10)\n",
      "[0. 0. 0. 0. 0. 0. 0. 0. 0. 1.]\n",
      "(10,)\n"
     ]
    }
   ],
   "source": [
    "#one hot encode\n",
    "from keras.utils import np_utils\n",
    "y_train = np_utils.to_categorical(y_train)\n",
    "y_test = np_utils.to_categorical(y_test)\n",
    "print(y_train.shape)\n",
    "print(y_train[1])\n",
    "print(y_train[1].shape)"
   ]
  },
  {
   "cell_type": "markdown",
   "metadata": {},
   "source": [
    "# build CNN network to object reconagation\n",
    "input: 32*32 image\n",
    "output: array category image\n",
    "! structure CNN:\n",
    "    Conv2D 96,3*3 ,relu\n",
    "        Conv2D, 96, 3*3 ,relu\n",
    "        maxpool, 2\n",
    "        conv2D, 96, 3*3, relu\n",
    "        Conv2D, 96,3*3, relu\n",
    "        maxpool, 2\n",
    "        conV2D, 1*1, 128\n",
    "        conv2d, 1*1,10\n",
    "        average_maxpool, 10, softmax"
   ]
  },
  {
   "cell_type": "code",
   "execution_count": 83,
   "metadata": {},
   "outputs": [],
   "source": [
    "from keras.layers import Conv2D, Dropout, Activation, GlobalAveragePooling2D\n",
    "from keras.models import Sequential\n",
    "from keras.activations import relu, softmax\n",
    "from keras.optimizers import SGD\n",
    "\n"
   ]
  },
  {
   "cell_type": "code",
   "execution_count": 84,
   "metadata": {},
   "outputs": [],
   "source": [
    "def all_cnn(weight=None):\n",
    "    model = Sequential()\n",
    "    model.add(Conv2D(96,(3,3), padding='same', input_shape=(32,32,3)))\n",
    "    model.add(Activation('relu'))\n",
    "    model.add(Conv2D(96,(3,3), padding='same'))\n",
    "    model.add(Activation('relu'))\n",
    "    model.add(Conv2D(96, (3,3),padding='same', strides=(2,2)))\n",
    "    model.add(Dropout(0.5))\n",
    "    \n",
    "    \n",
    "    model.add(Conv2D(192,(3,3), padding='same'))\n",
    "    model.add(Activation('relu'))\n",
    "    model.add(Conv2D(192,(3,3), padding='same'))\n",
    "    model.add(Activation('relu'))\n",
    "    model.add(Conv2D(192,(3,3), padding='same', strides=(2,2)))\n",
    "    model.add(Dropout(0.5))\n",
    "    \n",
    "    model.add(Conv2D(192,(3,3), padding='same'))\n",
    "    model.add(Activation('relu'))\n",
    "    model.add(Conv2D(192,(1,1), padding='valid'))\n",
    "    model.add(Activation('relu'))\n",
    "    model.add(Conv2D(10,(1,1), padding='valid'))\n",
    "    \n",
    "    model.add(GlobalAveragePooling2D())\n",
    "    model.add(Activation('softmax'))\n",
    "    \n",
    "    if weight:\n",
    "        model.load_weights(weight)\n",
    "    return model\n",
    "    "
   ]
  },
  {
   "cell_type": "code",
   "execution_count": 85,
   "metadata": {},
   "outputs": [
    {
     "name": "stdout",
     "output_type": "stream",
     "text": [
      "_________________________________________________________________\n",
      "Layer (type)                 Output Shape              Param #   \n",
      "=================================================================\n",
      "conv2d_55 (Conv2D)           (None, 32, 32, 96)        2688      \n",
      "_________________________________________________________________\n",
      "activation_43 (Activation)   (None, 32, 32, 96)        0         \n",
      "_________________________________________________________________\n",
      "conv2d_56 (Conv2D)           (None, 32, 32, 96)        83040     \n",
      "_________________________________________________________________\n",
      "activation_44 (Activation)   (None, 32, 32, 96)        0         \n",
      "_________________________________________________________________\n",
      "conv2d_57 (Conv2D)           (None, 16, 16, 96)        83040     \n",
      "_________________________________________________________________\n",
      "dropout_13 (Dropout)         (None, 16, 16, 96)        0         \n",
      "_________________________________________________________________\n",
      "conv2d_58 (Conv2D)           (None, 16, 16, 192)       166080    \n",
      "_________________________________________________________________\n",
      "activation_45 (Activation)   (None, 16, 16, 192)       0         \n",
      "_________________________________________________________________\n",
      "conv2d_59 (Conv2D)           (None, 16, 16, 192)       331968    \n",
      "_________________________________________________________________\n",
      "activation_46 (Activation)   (None, 16, 16, 192)       0         \n",
      "_________________________________________________________________\n",
      "conv2d_60 (Conv2D)           (None, 8, 8, 192)         331968    \n",
      "_________________________________________________________________\n",
      "dropout_14 (Dropout)         (None, 8, 8, 192)         0         \n",
      "_________________________________________________________________\n",
      "conv2d_61 (Conv2D)           (None, 8, 8, 192)         331968    \n",
      "_________________________________________________________________\n",
      "activation_47 (Activation)   (None, 8, 8, 192)         0         \n",
      "_________________________________________________________________\n",
      "conv2d_62 (Conv2D)           (None, 8, 8, 192)         37056     \n",
      "_________________________________________________________________\n",
      "activation_48 (Activation)   (None, 8, 8, 192)         0         \n",
      "_________________________________________________________________\n",
      "conv2d_63 (Conv2D)           (None, 8, 8, 10)          1930      \n",
      "_________________________________________________________________\n",
      "global_average_pooling2d_7 ( (None, 10)                0         \n",
      "_________________________________________________________________\n",
      "activation_49 (Activation)   (None, 10)                0         \n",
      "=================================================================\n",
      "Total params: 1,369,738\n",
      "Trainable params: 1,369,738\n",
      "Non-trainable params: 0\n",
      "_________________________________________________________________\n",
      "None\n",
      "10000/10000 [==============================] - 100s 10ms/step\n",
      "[0.499417725726217, 0.9088]\n"
     ]
    }
   ],
   "source": [
    "learning_rate = 0.01\n",
    "weight_decay = 1e-6\n",
    "momentum = 0.9\n",
    "\n",
    "weights = 'all_cnn_weights_0.9088_0.4994.hdf5'\n",
    "model = all_cnn(weights)\n",
    "sgd = SGD(lr=learning_rate, decay= weight_decay, momentum=momentum, nesterov=True)\n",
    "# DEPLOY MODELS\n",
    "\n",
    "model.compile(optimizer = sgd, metrics=['accuracy'], loss='categorical_crossentropy')\n",
    "\n",
    "print(model.summary())\n",
    "#weights = 'all_cnn_weights_0.9088_0.4994.hdf5'\n",
    "#epochs = 10\n",
    "#batch_size=64\n",
    "score = model.evaluate(x_test, y_test, verbose=1)\n",
    "print(score)\n",
    "#model.fit(x_train, y_train, validation_data=(x_test, y_test), epochs=epochs, batch_size=batch_size, verbose=1)"
   ]
  },
  {
   "cell_type": "code",
   "execution_count": 86,
   "metadata": {},
   "outputs": [
    {
     "data": {
      "text/plain": [
       "0.9088"
      ]
     },
     "execution_count": 86,
     "metadata": {},
     "output_type": "execute_result"
    }
   ],
   "source": [
    "score[1]"
   ]
  },
  {
   "cell_type": "code",
   "execution_count": 87,
   "metadata": {},
   "outputs": [],
   "source": [
    "class_label = ['airplane', 'automobile', 'bird', 'cat',\n",
    "               'deer', 'dog', 'frog', 'horse','ship', 'truck']"
   ]
  },
  {
   "cell_type": "code",
   "execution_count": 88,
   "metadata": {},
   "outputs": [],
   "source": [
    "cal = np.arange(10)"
   ]
  },
  {
   "cell_type": "code",
   "execution_count": 89,
   "metadata": {},
   "outputs": [],
   "source": [
    "class_label = dict(zip(cal, class_label))"
   ]
  },
  {
   "cell_type": "code",
   "execution_count": 90,
   "metadata": {},
   "outputs": [
    {
     "data": {
      "text/plain": [
       "{0: 'airplane',\n",
       " 1: 'automobile',\n",
       " 2: 'bird',\n",
       " 3: 'cat',\n",
       " 4: 'deer',\n",
       " 5: 'dog',\n",
       " 6: 'frog',\n",
       " 7: 'horse',\n",
       " 8: 'ship',\n",
       " 9: 'truck'}"
      ]
     },
     "execution_count": 90,
     "metadata": {},
     "output_type": "execute_result"
    }
   ],
   "source": [
    "class_label"
   ]
  },
  {
   "cell_type": "code",
   "execution_count": 91,
   "metadata": {},
   "outputs": [
    {
     "name": "stdout",
     "output_type": "stream",
     "text": [
      "\r",
      "29/29 [==============================] - 0s 14ms/step\n"
     ]
    }
   ],
   "source": [
    "pre = list(np.argmax(model.predict(x_test[100:129], verbose=1), axis=1))\n",
    "test = list(np.argmax((y_test[100:129]), axis=1))"
   ]
  },
  {
   "cell_type": "code",
   "execution_count": 107,
   "metadata": {},
   "outputs": [
    {
     "name": "stdout",
     "output_type": "stream",
     "text": [
      "predict: deer           real data: deer      , result: True\n",
      "predict: dog            real data: dog       , result: True\n",
      "predict: frog           real data: frog      , result: True\n",
      "predict: cat            real data: cat       , result: True\n",
      "predict: automobile     real data: automobile, result: True\n",
      "predict: automobile     real data: automobile, result: True\n",
      "predict: cat            real data: cat       , result: True\n",
      "predict: frog           real data: frog      , result: True\n",
      "predict: ship           real data: ship      , result: True\n",
      "predict: horse          real data: horse     , result: True\n",
      "predict: deer           real data: deer      , result: True\n",
      "predict: airplane       real data: airplane  , result: True\n",
      "predict: bird           real data: frog      , result: False\n",
      "predict: bird           real data: bird      , result: True\n",
      "predict: automobile     real data: automobile, result: True\n",
      "predict: cat            real data: cat       , result: True\n",
      "predict: airplane       real data: airplane  , result: True\n",
      "predict: deer           real data: deer      , result: True\n",
      "predict: cat            real data: bird      , result: False\n",
      "predict: horse          real data: horse     , result: True\n",
      "predict: ship           real data: ship      , result: True\n",
      "predict: cat            real data: cat       , result: True\n",
      "predict: automobile     real data: automobile, result: True\n",
      "predict: bird           real data: bird      , result: True\n",
      "predict: ship           real data: ship      , result: True\n",
      "predict: airplane       real data: airplane  , result: True\n",
      "predict: ship           real data: ship      , result: True\n",
      "predict: cat            real data: cat       , result: True\n",
      "predict: dog            real data: dog       , result: True\n"
     ]
    },
    {
     "data": {
      "image/png": "[encoded data removed]",
      "text/plain": [
       "<Figure size 432x288 with 1 Axes>"
      ]
     },
     "metadata": {
      "needs_background": "light"
     },
     "output_type": "display_data"
    }
   ],
   "source": [
    "\n",
    "for i in range(len(pre)):\n",
    "    plt.imshow(x_test[100+i])\n",
    "    print('predict: {:10}     real data: {:10}, result: {}'.format(class_label[pre[i]],class_label[test[i]], pre[i]== test[i]))"
   ]
  },
  {
   "cell_type": "code",
   "execution_count": 94,
   "metadata": {},
   "outputs": [],
   "source": [
    "%matplotlib inline"
   ]
  },
  {
   "cell_type": "code",
   "execution_count": null,
   "metadata": {},
   "outputs": [],
   "source": []
  },
  {
   "cell_type": "code",
   "execution_count": null,
   "metadata": {},
   "outputs": [],
   "source": []
  },
  {
   "cell_type": "code",
   "execution_count": null,
   "metadata": {},
   "outputs": [],
   "source": []
  },
  {
   "cell_type": "code",
   "execution_count": null,
   "metadata": {},
   "outputs": [],
   "source": []
  }
 ],
 "metadata": {
  "kernelspec": {
   "display_name": "Python 3",
   "language": "python",
   "name": "python3"
  },
  "language_info": {
   "codemirror_mode": {
    "name": "ipython",
    "version": 3
   },
   "file_extension": ".py",
   "mimetype": "text/x-python",
   "name": "python",
   "nbconvert_exporter": "python",
   "pygments_lexer": "ipython3",
   "version": "3.7.3"
  }
 },
 "nbformat": 4,
 "nbformat_minor": 2
}
